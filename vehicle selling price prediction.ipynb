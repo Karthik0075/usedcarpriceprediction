{
 "cells": [
  {
   "cell_type": "markdown",
   "metadata": {},
   "source": [
    "##### PREPROCESSING"
   ]
  },
  {
   "cell_type": "code",
   "execution_count": 33,
   "metadata": {},
   "outputs": [],
   "source": [
    "import pandas as pd\n",
    "import numpy as np\n",
    "import matplotlib.pyplot as plt \n",
    "import seaborn as sns"
   ]
  },
  {
   "cell_type": "code",
   "execution_count": 34,
   "metadata": {},
   "outputs": [],
   "source": [
    "df = pd.read_csv(\"car data.csv\")"
   ]
  },
  {
   "cell_type": "code",
   "execution_count": 35,
   "metadata": {},
   "outputs": [
    {
     "data": {
      "text/html": [
       "<div>\n",
       "<style scoped>\n",
       "    .dataframe tbody tr th:only-of-type {\n",
       "        vertical-align: middle;\n",
       "    }\n",
       "\n",
       "    .dataframe tbody tr th {\n",
       "        vertical-align: top;\n",
       "    }\n",
       "\n",
       "    .dataframe thead th {\n",
       "        text-align: right;\n",
       "    }\n",
       "</style>\n",
       "<table border=\"1\" class=\"dataframe\">\n",
       "  <thead>\n",
       "    <tr style=\"text-align: right;\">\n",
       "      <th></th>\n",
       "      <th>Car_Name</th>\n",
       "      <th>Year</th>\n",
       "      <th>Selling_Price</th>\n",
       "      <th>Present_Price</th>\n",
       "      <th>Kms_Driven</th>\n",
       "      <th>Fuel_Type</th>\n",
       "      <th>Seller_Type</th>\n",
       "      <th>Transmission</th>\n",
       "      <th>Owner</th>\n",
       "    </tr>\n",
       "  </thead>\n",
       "  <tbody>\n",
       "    <tr>\n",
       "      <th>163</th>\n",
       "      <td>Bajaj Avenger 220 dtsi</td>\n",
       "      <td>2010</td>\n",
       "      <td>0.45</td>\n",
       "      <td>0.95</td>\n",
       "      <td>27000</td>\n",
       "      <td>Petrol</td>\n",
       "      <td>Individual</td>\n",
       "      <td>Manual</td>\n",
       "      <td>0</td>\n",
       "    </tr>\n",
       "    <tr>\n",
       "      <th>174</th>\n",
       "      <td>Honda CB Unicorn</td>\n",
       "      <td>2015</td>\n",
       "      <td>0.38</td>\n",
       "      <td>0.72</td>\n",
       "      <td>38600</td>\n",
       "      <td>Petrol</td>\n",
       "      <td>Individual</td>\n",
       "      <td>Manual</td>\n",
       "      <td>0</td>\n",
       "    </tr>\n",
       "    <tr>\n",
       "      <th>5</th>\n",
       "      <td>vitara brezza</td>\n",
       "      <td>2018</td>\n",
       "      <td>9.25</td>\n",
       "      <td>9.83</td>\n",
       "      <td>2071</td>\n",
       "      <td>Diesel</td>\n",
       "      <td>Dealer</td>\n",
       "      <td>Manual</td>\n",
       "      <td>0</td>\n",
       "    </tr>\n",
       "    <tr>\n",
       "      <th>0</th>\n",
       "      <td>ritz</td>\n",
       "      <td>2014</td>\n",
       "      <td>3.35</td>\n",
       "      <td>5.59</td>\n",
       "      <td>27000</td>\n",
       "      <td>Petrol</td>\n",
       "      <td>Dealer</td>\n",
       "      <td>Manual</td>\n",
       "      <td>0</td>\n",
       "    </tr>\n",
       "    <tr>\n",
       "      <th>132</th>\n",
       "      <td>Bajaj Avenger 220</td>\n",
       "      <td>2017</td>\n",
       "      <td>0.75</td>\n",
       "      <td>0.95</td>\n",
       "      <td>3500</td>\n",
       "      <td>Petrol</td>\n",
       "      <td>Individual</td>\n",
       "      <td>Manual</td>\n",
       "      <td>0</td>\n",
       "    </tr>\n",
       "  </tbody>\n",
       "</table>\n",
       "</div>"
      ],
      "text/plain": [
       "                   Car_Name  Year  Selling_Price  Present_Price  Kms_Driven  \\\n",
       "163  Bajaj Avenger 220 dtsi  2010           0.45           0.95       27000   \n",
       "174        Honda CB Unicorn  2015           0.38           0.72       38600   \n",
       "5             vitara brezza  2018           9.25           9.83        2071   \n",
       "0                      ritz  2014           3.35           5.59       27000   \n",
       "132       Bajaj Avenger 220  2017           0.75           0.95        3500   \n",
       "\n",
       "    Fuel_Type Seller_Type Transmission  Owner  \n",
       "163    Petrol  Individual       Manual      0  \n",
       "174    Petrol  Individual       Manual      0  \n",
       "5      Diesel      Dealer       Manual      0  \n",
       "0      Petrol      Dealer       Manual      0  \n",
       "132    Petrol  Individual       Manual      0  "
      ]
     },
     "execution_count": 35,
     "metadata": {},
     "output_type": "execute_result"
    }
   ],
   "source": [
    "df.sample(5)"
   ]
  },
  {
   "cell_type": "code",
   "execution_count": 36,
   "metadata": {},
   "outputs": [
    {
     "data": {
      "text/plain": [
       "(301, 9)"
      ]
     },
     "execution_count": 36,
     "metadata": {},
     "output_type": "execute_result"
    }
   ],
   "source": [
    "df.shape"
   ]
  },
  {
   "cell_type": "code",
   "execution_count": 37,
   "metadata": {},
   "outputs": [
    {
     "data": {
      "text/plain": [
       "False"
      ]
     },
     "execution_count": 37,
     "metadata": {},
     "output_type": "execute_result"
    }
   ],
   "source": [
    "df.isna().values.any() "
   ]
  },
  {
   "cell_type": "code",
   "execution_count": 38,
   "metadata": {},
   "outputs": [
    {
     "name": "stdout",
     "output_type": "stream",
     "text": [
      "Fuel Type:  ['Petrol' 'Diesel' 'CNG']\n",
      "Seller Type:  ['Dealer' 'Individual']\n",
      "Transmission:  ['Manual' 'Automatic']\n",
      "Owner:  [0 1 3]\n"
     ]
    }
   ],
   "source": [
    "print(\"Fuel Type: \", df.Fuel_Type.unique())\n",
    "print(\"Seller Type: \", df.Seller_Type.unique())\n",
    "print(\"Transmission: \", df.Transmission.unique())\n",
    "print(\"Owner: \", df.Owner.unique())"
   ]
  },
  {
   "cell_type": "code",
   "execution_count": 39,
   "metadata": {},
   "outputs": [],
   "source": [
    "from datetime import datetime\n",
    "df[\"Current_year\"] = datetime.now().year\n",
    "df[\"Year\"] = df.Current_year - df.Year\n"
   ]
  },
  {
   "cell_type": "code",
   "execution_count": 40,
   "metadata": {},
   "outputs": [],
   "source": [
    "#df.drop(columns=\"Current_year\", axis = 1, inplace = True)"
   ]
  },
  {
   "cell_type": "markdown",
   "metadata": {},
   "source": [
    "### Data visualization"
   ]
  },
  {
   "cell_type": "code",
   "execution_count": 42,
   "metadata": {},
   "outputs": [
    {
     "data": {
      "image/png": "[encoded data removed]",
      "text/plain": [
       "<Figure size 432x288 with 1 Axes>"
      ]
     },
     "metadata": {
      "needs_background": "light"
     },
     "output_type": "display_data"
    },
    {
     "data": {
      "image/png": "[encoded data removed]",
      "text/plain": [
       "<Figure size 432x288 with 1 Axes>"
      ]
     },
     "metadata": {
      "needs_background": "light"
     },
     "output_type": "display_data"
    },
    {
     "data": {
      "image/png": "[encoded data removed]",
      "text/plain": [
       "<Figure size 432x288 with 1 Axes>"
      ]
     },
     "metadata": {
      "needs_background": "light"
     },
     "output_type": "display_data"
    },
    {
     "data": {
      "image/png": "[encoded data removed]",
      "text/plain": [
       "<Figure size 432x288 with 1 Axes>"
      ]
     },
     "metadata": {
      "needs_background": "light"
     },
     "output_type": "display_data"
    }
   ],
   "source": [
    "for col in df.select_dtypes(\"object\"):\n",
    "    plt.figure()\n",
    "    sns. countplot(df[col],palette='hls')"
   ]
  },
  {
   "cell_type": "code",
   "execution_count": 197,
   "metadata": {},
   "outputs": [],
   "source": [
    "# ENCODING\n",
    "dummy = pd.get_dummies(df[[\"Fuel_Type\", \"Seller_Type\", \"Transmission\"]], drop_first = True)\n",
    "df = pd.concat( [df, dummy], axis = 1)\n",
    "df.drop(columns = [\"Fuel_Type\", \"Seller_Type\", \"Transmission\"], inplace = True)"
   ]
  },
  {
   "cell_type": "code",
   "execution_count": 198,
   "metadata": {},
   "outputs": [
    {
     "data": {
      "image/png": "[encoded data removed]",
      "text/plain": [
       "<Figure size 720x432 with 2 Axes>"
      ]
     },
     "metadata": {
      "needs_background": "light"
     },
     "output_type": "display_data"
    }
   ],
   "source": [
    "import matplotlib.pyplot as plt\n",
    "import seaborn as sns\n",
    "%matplotlib inline\n",
    "\n",
    "plt.figure(figsize = (10, 6))\n",
    "sns.heatmap(df.corr(), annot = True)\n",
    "plt.show()"
   ]
  },
  {
   "cell_type": "code",
   "execution_count": 199,
   "metadata": {},
   "outputs": [],
   "source": [
    "df.Car_Name = df.Car_Name.str.lower()\n",
    "dummy = pd.get_dummies(df.Car_Name, drop_first = True)\n",
    "df = pd.concat([df, dummy], axis = 1)\n",
    "df.drop(\"Car_Name\", axis = 1, inplace = True)"
   ]
  },
  {
   "cell_type": "code",
   "execution_count": 200,
   "metadata": {},
   "outputs": [],
   "source": [
    "X = df.drop(columns=\"Selling_Price\")\n",
    "y = df.Selling_Price"
   ]
  },
  {
   "cell_type": "code",
   "execution_count": 201,
   "metadata": {},
   "outputs": [],
   "source": [
    "from sklearn.ensemble import ExtraTreesRegressor\n",
    "etr = ExtraTreesRegressor()\n",
    "etr.fit(X, y)\n",
    "important_features = etr.feature_importances_"
   ]
  },
  {
   "cell_type": "code",
   "execution_count": 202,
   "metadata": {},
   "outputs": [
    {
     "data": {
      "image/png": "[encoded data removed]",
      "text/plain": [
       "<Figure size 720x432 with 1 Axes>"
      ]
     },
     "metadata": {
      "needs_background": "light"
     },
     "output_type": "display_data"
    }
   ],
   "source": [
    "important_features = pd.Series(important_features, index = X.columns).sort_values(ascending = False)\n",
    "plt.figure(figsize = (10, 6))\n",
    "important_features[:5].plot(kind = \"barh\")\n",
    "plt.title(\"Top 5 Important Feature\")\n",
    "plt.show()"
   ]
  },
  {
   "cell_type": "code",
   "execution_count": 203,
   "metadata": {},
   "outputs": [],
   "source": [
    "from sklearn.model_selection import train_test_split\n",
    "\n",
    "X_train, X_test, y_train, y_test = train_test_split(X, y, test_size = 0.20)"
   ]
  },
  {
   "cell_type": "code",
   "execution_count": 204,
   "metadata": {},
   "outputs": [],
   "source": [
    "from sklearn.linear_model import LinearRegression\n",
    "from sklearn.tree import DecisionTreeRegressor\n",
    "from sklearn.ensemble import RandomForestRegressor"
   ]
  },
  {
   "cell_type": "code",
   "execution_count": 205,
   "metadata": {},
   "outputs": [],
   "source": [
    "# let's create a dict for paramer\n",
    "\n",
    "\n",
    "algos = {\n",
    "    \"Linear Regression\": {\n",
    "        \"model\": LinearRegression(),\n",
    "        \"param\":{\n",
    "            \"normalize\":[True, False]\n",
    "        }\n",
    "    },\n",
    "    \"Decision Tree\": {\n",
    "        \"model\": DecisionTreeRegressor(),\n",
    "        \"param\": {\n",
    "            \"criterion\": [\"mse\", \"friedman_mse\"],\n",
    "            \"splitter\": [\"best\", \"random\"]\n",
    "        }\n",
    "    },\n",
    "    \"Random Forest\": {\n",
    "        \"model\": RandomForestRegressor(),\n",
    "        \"param\": {\n",
    "            \"n_estimators\": [int(x) for x in np.linspace(100, 1200, 12)],\n",
    "            \"max_features\": [\"auto\", \"sqrt\"],\n",
    "            \"max_depth\": [int(x) for x in np.linspace(5, 30, 6)],\n",
    "            \"min_samples_split\": [2, 5, 10, 15, 100],\n",
    "            \"min_samples_leaf\": [1, 2, 5, 10]\n",
    "        }\n",
    "    }\n",
    "}"
   ]
  },
  {
   "cell_type": "code",
   "execution_count": 206,
   "metadata": {},
   "outputs": [
    {
     "name": "stderr",
     "output_type": "stream",
     "text": [
      "C:\\Users\\KARTHIK GR\\Anaconda3\\lib\\site-packages\\sklearn\\model_selection\\_search.py:289: UserWarning: The total space of parameters 2 is smaller than n_iter=10. Running 2 iterations. For exhaustive searches, use GridSearchCV.\n",
      "  % (grid_size, self.n_iter, grid_size), UserWarning)\n",
      "C:\\Users\\KARTHIK GR\\Anaconda3\\lib\\site-packages\\sklearn\\model_selection\\_search.py:289: UserWarning: The total space of parameters 4 is smaller than n_iter=10. Running 4 iterations. For exhaustive searches, use GridSearchCV.\n",
      "  % (grid_size, self.n_iter, grid_size), UserWarning)\n"
     ]
    },
    {
     "data": {
      "text/html": [
       "<div>\n",
       "<style scoped>\n",
       "    .dataframe tbody tr th:only-of-type {\n",
       "        vertical-align: middle;\n",
       "    }\n",
       "\n",
       "    .dataframe tbody tr th {\n",
       "        vertical-align: top;\n",
       "    }\n",
       "\n",
       "    .dataframe thead th {\n",
       "        text-align: right;\n",
       "    }\n",
       "</style>\n",
       "<table border=\"1\" class=\"dataframe\">\n",
       "  <thead>\n",
       "    <tr style=\"text-align: right;\">\n",
       "      <th></th>\n",
       "      <th>Model</th>\n",
       "      <th>Best Parameters</th>\n",
       "      <th>Best Score</th>\n",
       "    </tr>\n",
       "  </thead>\n",
       "  <tbody>\n",
       "    <tr>\n",
       "      <th>0</th>\n",
       "      <td>Linear Regression</td>\n",
       "      <td>{'normalize': False}</td>\n",
       "      <td>0.725426</td>\n",
       "    </tr>\n",
       "    <tr>\n",
       "      <th>1</th>\n",
       "      <td>Decision Tree</td>\n",
       "      <td>{'splitter': 'best', 'criterion': 'friedman_mse'}</td>\n",
       "      <td>0.921461</td>\n",
       "    </tr>\n",
       "    <tr>\n",
       "      <th>2</th>\n",
       "      <td>Random Forest</td>\n",
       "      <td>{'n_estimators': 200, 'min_samples_split': 5, ...</td>\n",
       "      <td>0.892024</td>\n",
       "    </tr>\n",
       "  </tbody>\n",
       "</table>\n",
       "</div>"
      ],
      "text/plain": [
       "               Model                                    Best Parameters  \\\n",
       "0  Linear Regression                               {'normalize': False}   \n",
       "1      Decision Tree  {'splitter': 'best', 'criterion': 'friedman_mse'}   \n",
       "2      Random Forest  {'n_estimators': 200, 'min_samples_split': 5, ...   \n",
       "\n",
       "   Best Score  \n",
       "0    0.725426  \n",
       "1    0.921461  \n",
       "2    0.892024  "
      ]
     },
     "execution_count": 206,
     "metadata": {},
     "output_type": "execute_result"
    }
   ],
   "source": [
    "# let's find best algotithm with it's best parameter\n",
    "# here we are going to use Randomize Search cv for hyperparamter tuninig\n",
    "\n",
    "from sklearn.model_selection import RandomizedSearchCV\n",
    "\n",
    "best_models = {}\n",
    "scores = []\n",
    "for model_name, values in algos.items():\n",
    "    model_tunning = RandomizedSearchCV(values[\"model\"], values[\"param\"], n_iter=10, cv = 5, n_jobs = -1)\n",
    "    model_tunning.fit(X_train, y_train)\n",
    "    \n",
    "    best_models[model_name] = model_tunning\n",
    "    scores.append({\n",
    "        \"Model\": model_name,\n",
    "        \"Best Parameters\": model_tunning.best_params_,\n",
    "        \"Best Score\": model_tunning.best_score_\n",
    "    })\n",
    "    \n",
    "pd.DataFrame(scores)"
   ]
  },
  {
   "cell_type": "code",
   "execution_count": 207,
   "metadata": {},
   "outputs": [
    {
     "name": "stdout",
     "output_type": "stream",
     "text": [
      "Linear Regression  :  0.5954184978955038\n",
      "Decision Tree  :  0.950088205249568\n",
      "Random Forest  :  0.9596688527867206\n"
     ]
    }
   ],
   "source": [
    "# In above we can see that Decision Tree is best algorithm with 92% accuracy\n",
    "# but let's test all the algorithm on our test data set\n",
    "\n",
    "for name, model in best_models.items():\n",
    "    print(name, \" : \", model.score(X_test, y_test))\n"
   ]
  },
  {
   "cell_type": "markdown",
   "metadata": {},
   "source": [
    "##### so we can see above when we test those trained model using test data we get random forest is best algorithm with 96% accuracy "
   ]
  },
  {
   "cell_type": "code",
   "execution_count": 208,
   "metadata": {},
   "outputs": [],
   "source": [
    "# let's take our final model\n",
    "final_model = best_models[\"Random Forest\"]"
   ]
  },
  {
   "cell_type": "code",
   "execution_count": 209,
   "metadata": {},
   "outputs": [],
   "source": [
    "# so here we take Random Forest model for our problem\n",
    "\n",
    "def predict_price(year, present_price, kms, owner, diesel, petrol, individual, manual, vehicle):\n",
    "    vehicle_index = np.where(X.columns == vehicle.lower())[0][0]\n",
    "    X_pred = np.zeros_like(X.columns)\n",
    "    \n",
    "    feature_list = [year, present_price, kms, owner, diesel, petrol, individual, manual]\n",
    "    count = 0\n",
    "    for f in feature_list:\n",
    "        X_pred[count] = f\n",
    "        count += 1\n",
    "    \n",
    "    if vehicle_index > 0:\n",
    "        X_pred[vehicle_index] = 1\n",
    "    \n",
    "    result = final_model.predict([X_pred])\n",
    "    \n",
    "    return result\n"
   ]
  },
  {
   "cell_type": "code",
   "execution_count": 210,
   "metadata": {},
   "outputs": [
    {
     "data": {
      "text/plain": [
       "array([6.04246962])"
      ]
     },
     "execution_count": 210,
     "metadata": {},
     "output_type": "execute_result"
    }
   ],
   "source": [
    "predict_price(7, 9.54, 43000, 0, 1, 0, 0, 1, \"sx4\")"
   ]
  },
  {
   "cell_type": "code",
   "execution_count": 211,
   "metadata": {},
   "outputs": [],
   "source": [
    "# our model is working perfectly fine with around 96% accuracy\n",
    "# let's save our model as binary file\n",
    "\n",
    "import pickle\n",
    "\n",
    "with open(\"model.pkl\", \"wb\") as f:\n",
    "    pickle.dump(final_model, f)"
   ]
  },
  {
   "cell_type": "code",
   "execution_count": 212,
   "metadata": {},
   "outputs": [],
   "source": [
    "# let's save json file of our columns, it's use in frontend\n",
    "\n",
    "import json\n",
    "\n",
    "column_dict = {\"data_columns\": X.columns.to_list()}\n",
    "\n",
    "with open(\"columns.json\", \"w\") as f:\n",
    "    json.dump(column_dict, f)"
   ]
  },
  {
   "cell_type": "code",
   "execution_count": null,
   "metadata": {},
   "outputs": [],
   "source": []
  }
 ],
 "metadata": {
  "kernelspec": {
   "display_name": "Python 3",
   "language": "python",
   "name": "python3"
  },
  "language_info": {
   "codemirror_mode": {
    "name": "ipython",
    "version": 3
   },
   "file_extension": ".py",
   "mimetype": "text/x-python",
   "name": "python",
   "nbconvert_exporter": "python",
   "pygments_lexer": "ipython3",
   "version": "3.7.4"
  }
 },
 "nbformat": 4,
 "nbformat_minor": 4
}
